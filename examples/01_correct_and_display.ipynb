{
 "cells": [
  {
   "cell_type": "markdown",
   "metadata": {},
   "source": [
    "# EXAMPLE 1: Correct and display"
   ]
  },
  {
   "cell_type": "markdown",
   "metadata": {},
   "source": [
    "This example covers the basic usage of the dual-PRF velocity correction function:\n",
    "\n",
    "- [Load raw data with Py-ART](#load_data_pyart)  \n",
    "- [Apply the correction function](#apply_vcor)  \n",
    "- [Display the results](#display)\n"
   ]
  },
  {
   "cell_type": "markdown",
   "metadata": {},
   "source": [
    "**EVENT**: A tornado associated to a rotating cell that took place near Cardona town (41º54'51'' N, 1º40'52'' E) on the 7th of January 2018."
   ]
  },
  {
   "cell_type": "markdown",
   "metadata": {},
   "source": [
    "**DATA**: It works with data from the weather radar network (XRAD) of the Meteorological Service of Catalonia. This data is in IRIS RAW format. In this particular case, the data used is from Creu del Vent (CDV) radar."
   ]
  },
  {
   "cell_type": "markdown",
   "metadata": {},
   "source": [
    "**LIBRARIES/FUNCTIONS:**"
   ]
  },
  {
   "cell_type": "code",
   "execution_count": null,
   "metadata": {
    "collapsed": true
   },
   "outputs": [],
   "source": [
    "import pyart\n",
    "import vcor_dual_prf as vcor\n",
    "\n",
    "import numpy as np\n",
    "import matplotlib as mpl\n",
    "import matplotlib.pyplot as plt"
   ]
  },
  {
   "cell_type": "markdown",
   "metadata": {},
   "source": [
    "**RADAR SETTINGS:**\n",
    "\n",
    "Input file, elevation/sweep number"
   ]
  },
  {
   "cell_type": "code",
   "execution_count": null,
   "metadata": {
    "collapsed": true
   },
   "outputs": [],
   "source": [
    "file_in = '../sample_data/CDV180107_tornado.RAW'\n",
    "sw = 3"
   ]
  },
  {
   "cell_type": "markdown",
   "metadata": {},
   "source": [
    "**DISPLAY SETTINGS**\n",
    "\n",
    "Site coordinates (decimal lat/lon), display region limits (decimal lat/lon), tick locations"
   ]
  },
  {
   "cell_type": "code",
   "execution_count": null,
   "metadata": {
    "collapsed": true
   },
   "outputs": [],
   "source": [
    "ylim = (-40, 60)\n",
    "xlim = (-25, 75)\n",
    "range_rings = range(25, 150, 25)"
   ]
  },
  {
   "cell_type": "markdown",
   "metadata": {},
   "source": [
    "Set a custom colormap for the velocity"
   ]
  },
  {
   "cell_type": "code",
   "execution_count": null,
   "metadata": {
    "collapsed": true
   },
   "outputs": [],
   "source": [
    "cmaplst_l = [plt.get_cmap('ocean', 22)(i) for i in list(range(1, 22))] + [plt.get_cmap('gnuplot_r', 30)(i) for i in list(range(1, 21))]\n",
    "cmap_vel = mpl.colors.ListedColormap(cmaplst_l)\n",
    "cmap_vel.set_bad('lightgrey', 1.)"
   ]
  },
  {
   "cell_type": "markdown",
   "metadata": {},
   "source": [
    "<a id='load_data_pyart'></a>\n",
    "### Load raw data with Py-ART"
   ]
  },
  {
   "cell_type": "markdown",
   "metadata": {},
   "source": [
    "Py-ART reads the data and metadata in the input file into a dictionary structure (radar object instance):"
   ]
  },
  {
   "cell_type": "code",
   "execution_count": null,
   "metadata": {
    "collapsed": true
   },
   "outputs": [],
   "source": [
    "rad = pyart.io.read(file_in)"
   ]
  },
  {
   "cell_type": "markdown",
   "metadata": {},
   "source": [
    "Let's check the data fields that have been loaded:"
   ]
  },
  {
   "cell_type": "code",
   "execution_count": null,
   "metadata": {
    "collapsed": false
   },
   "outputs": [],
   "source": [
    "rad.fields.keys()"
   ]
  },
  {
   "cell_type": "markdown",
   "metadata": {},
   "source": [
    "For plotting purposes only, we retrieve the Nyquist velocity stored in the radar instance metadata :"
   ]
  },
  {
   "cell_type": "code",
   "execution_count": null,
   "metadata": {
    "collapsed": false
   },
   "outputs": [],
   "source": [
    "# Nyquist velocity\n",
    "v_ny = rad.instrument_parameters['nyquist_velocity']['data'][0]\n",
    "v_ny"
   ]
  },
  {
   "cell_type": "markdown",
   "metadata": {},
   "source": [
    "<a id='apply_vcor'></a>\n",
    "### Apply the correction function"
   ]
  },
  {
   "cell_type": "markdown",
   "metadata": {},
   "source": [
    "As a first example, we apply the correction function for all 4 the methods available. \n",
    "\n",
    "The function parameters specified in each case correspond (as precisely as possible) to the ones detailed in the original publications. When a parameter is not explicitly mentioned in the publication, we leave the one set by default in the function. \n",
    "\n",
    "Application of the function includes the addition of a new data field in the radar instance. \n"
   ]
  },
  {
   "cell_type": "markdown",
   "metadata": {},
   "source": [
    "**(a) 'mean' method**: \n",
    "\n",
    "Joe, P. and May, P. T., 2003: Correction of dual PRF velocity errors for operational Doppler weather radars. *J. Atmos. Oceanic Technol.*, 20(4), 429-442"
   ]
  },
  {
   "cell_type": "code",
   "execution_count": null,
   "metadata": {
    "collapsed": false
   },
   "outputs": [],
   "source": [
    "vcor.correct_dualprf(radar=rad, two_step=False, \n",
    "                     method_det='mean', kernel_det=np.ones((3, 3)),\n",
    "                     vel_field='velocity', new_field='vcor_mean')"
   ]
  },
  {
   "cell_type": "markdown",
   "metadata": {},
   "source": [
    "**(b) 'median' method**:\n",
    "\n",
    "Holleman, I. and Beekhuis, H., 2003: Analysis and correction of dual PRF velocity data. *J. Atmos. Oceanic Technol.*, 20(4), 443-453 "
   ]
  },
  {
   "cell_type": "code",
   "execution_count": null,
   "metadata": {
    "collapsed": false
   },
   "outputs": [],
   "source": [
    "vcor.correct_dualprf(radar=rad, two_step=False, \n",
    "                     method_det='median', kernel_det=np.ones((3, 3)), \n",
    "                     vel_field='velocity', new_field='vcor_median')"
   ]
  },
  {
   "cell_type": "markdown",
   "metadata": {},
   "source": [
    "**(c) 'cmean_sc' method**: \n",
    "\n",
    "Altube, P., et al., 2017: Correction of dual-PRF Doppler velocity outliers in the presence of aliasing. *J. Atmos. Oceanic Technol.*, 34(7), 1529-1543 "
   ]
  },
  {
   "cell_type": "code",
   "execution_count": null,
   "metadata": {
    "collapsed": true
   },
   "outputs": [],
   "source": [
    "vcor.correct_dualprf(radar=rad, two_step=True, \n",
    "                     method_det='cmean_sc', kernel_det=np.ones((7, 7)),\n",
    "                     method_cor='median', kernel_cor=np.ones((7, 7)),\n",
    "                     vel_field='velocity', new_field='vcor_cmean_sc')"
   ]
  },
  {
   "cell_type": "markdown",
   "metadata": {},
   "source": [
    "**(d) 'cmean' method**: Hengstebeck, T., et al., 2018: Radar network–based detection of mesocyclones at the German\n",
    "Weather Service. *J. Atmos. Oceanic Technol.*, 35(2), 299-321"
   ]
  },
  {
   "cell_type": "code",
   "execution_count": null,
   "metadata": {
    "collapsed": true
   },
   "outputs": [],
   "source": [
    "vcor.correct_dualprf(radar=rad, two_step=True,\n",
    "                     method_det='cmean', kernel_det=np.ones((11, 11)),\n",
    "                     method_cor='cmean', kernel_cor=np.ones((5, 5)),\n",
    "                     vel_field='velocity', new_field='vcor_cmean')"
   ]
  },
  {
   "cell_type": "markdown",
   "metadata": {},
   "source": [
    "Let's check that all the corrections have been stored in the radar instance:"
   ]
  },
  {
   "cell_type": "code",
   "execution_count": null,
   "metadata": {
    "collapsed": false
   },
   "outputs": [],
   "source": [
    "rad.fields.keys()"
   ]
  },
  {
   "cell_type": "markdown",
   "metadata": {},
   "source": [
    "<a id='display'></a>\n",
    "### Display the results"
   ]
  },
  {
   "cell_type": "code",
   "execution_count": null,
   "metadata": {
    "collapsed": false
   },
   "outputs": [],
   "source": [
    "display = pyart.graph.RadarDisplay(rad)\n",
    "fig = plt.figure(figsize=(8,7))\n",
    "ax = fig.add_subplot(111)\n",
    "\n",
    "display.plot('velocity', sw, ax=ax, vmin=-v_ny, vmax=v_ny, mask_outside=False, \n",
    "             cmap=cmap_vel, colorbar_flag=True, title_flag=False)\n",
    "display.plot_range_rings(range_rings, lw=0.8, ls=':', ax=ax)\n",
    "display.plot_cross_hair(0.5, ax=ax)\n",
    "ax.set_xlim(xlim)\n",
    "ax.set_ylim(ylim)"
   ]
  },
  {
   "cell_type": "code",
   "execution_count": null,
   "metadata": {
    "collapsed": false
   },
   "outputs": [],
   "source": [
    "fig, ((ax1, ax2), (ax3, ax4)) = plt.subplots(2, 2, figsize=(18,15))\n",
    "\n",
    "display.plot('vcor_mean', sw, ax=ax1, vmin=-v_ny, vmax=v_ny, mask_outside=False, \n",
    "             cmap=cmap_vel, colorbar_flag=True, title_flag=False)\n",
    "display.plot_range_rings(range_rings, lw=0.8, ls=':', ax=ax1)\n",
    "display.plot_cross_hair(0.5, ax=ax1)\n",
    "ax1.set_xlim(xlim)\n",
    "ax1.set_ylim(ylim)\n",
    "\n",
    "display.plot('vcor_median', sw, ax=ax2, vmin=-v_ny, vmax=v_ny, mask_outside=False, \n",
    "            cmap=cmap_vel, colorbar_flag=True, title_flag=False)\n",
    "display.plot_range_rings(range_rings, lw=0.8, ls=':', ax=ax2)\n",
    "display.plot_cross_hair(0.5, ax=ax2)\n",
    "ax2.set_xlim(xlim)\n",
    "ax2.set_ylim(ylim)\n",
    "\n",
    "display.plot('vcor_cmean_sc', sw, ax=ax3, vmin=-v_ny, vmax=v_ny, mask_outside=False, \n",
    "            cmap=cmap_vel, colorbar_flag=True, title_flag=False)\n",
    "display.plot_range_rings(range_rings, lw=0.8, ls=':', ax=ax3)\n",
    "display.plot_cross_hair(0.5, ax=ax3)\n",
    "ax3.set_xlim(xlim)\n",
    "ax3.set_ylim(ylim)\n",
    "\n",
    "display.plot('vcor_cmean', sw, ax=ax4, vmin=-v_ny, vmax=v_ny, mask_outside=False, \n",
    "            cmap=cmap_vel, colorbar_flag=True, title_flag=False)\n",
    "display.plot_range_rings(range_rings, lw=0.8, ls=':', ax=ax4)\n",
    "display.plot_cross_hair(0.5, ax=ax4)\n",
    "ax4.set_xlim(xlim)\n",
    "ax4.set_ylim(ylim)\n",
    "\n",
    "fig.tight_layout()\n",
    "plt.show()"
   ]
  }
 ],
 "metadata": {
  "kernelspec": {
   "display_name": "Python 2",
   "language": "python",
   "name": "python2"
  },
  "language_info": {
   "codemirror_mode": {
    "name": "ipython",
    "version": 2
   },
   "file_extension": ".py",
   "mimetype": "text/x-python",
   "name": "python",
   "nbconvert_exporter": "python",
   "pygments_lexer": "ipython2",
   "version": "2.7.13"
  }
 },
 "nbformat": 4,
 "nbformat_minor": 2
}
